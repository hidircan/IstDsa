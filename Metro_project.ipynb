{
  "nbformat": 4,
  "nbformat_minor": 0,
  "metadata": {
    "colab": {
      "provenance": [],
      "authorship_tag": "ABX9TyMpJTkvb4Ov2HDqj6VpiW4Y",
      "include_colab_link": true
    },
    "kernelspec": {
      "name": "python3",
      "display_name": "Python 3"
    },
    "language_info": {
      "name": "python"
    }
  },
  "cells": [
    {
      "cell_type": "markdown",
      "metadata": {
        "id": "view-in-github",
        "colab_type": "text"
      },
      "source": [
        "<a href=\"https://colab.research.google.com/github/hidircan/IstDsa/blob/main/Metro_project.ipynb\" target=\"_parent\"><img src=\"https://colab.research.google.com/assets/colab-badge.svg\" alt=\"Open In Colab\"/></a>"
      ]
    },
    {
      "cell_type": "markdown",
      "source": [
        "### **Proje 1: Keşifsel Veri Analizi (EDA) METRO_PROJECT**\n",
        "\n",
        "\n",
        "\n"
      ],
      "metadata": {
        "id": "lqLgwgTjlVVu"
      }
    },
    {
      "cell_type": "markdown",
      "source": [
        "Karrine ve Dahlia'nın isteği, MTA turnike verileri kullanarak sokak ekiplerinin yerleşimini optimize etmektir. Bu, potansiyel olarak en fazla kişiye ulaşmak için sokak ekiplerinin en verimli bir şekilde konumlandırılmasını gerektirir.\n",
        "\n",
        "Bu sorunu çözmek için, veri setindeki her istasyonun ortalama günlük giriş çıkış sayısını hesaplamak ve ardından sokak ekiplerini bu istasyonlara en çok talep olan saatlerde yerleştirmek iyi bir yaklaşım olabilir."
      ],
      "metadata": {
        "id": "JWNbtXgzlQFG"
      }
    },
    {
      "cell_type": "code",
      "execution_count": null,
      "metadata": {
        "id": "zJ1Cqo9FRyOK"
      },
      "outputs": [],
      "source": [
        "import pandas as pd\n",
        "import numpy as np\n",
        "import matplotlib.pyplot as plt"
      ]
    },
    {
      "cell_type": "code",
      "source": [
        "data = pd.read_csv('http://web.mta.info/developers/data/nyct/turnstile/turnstile_220528.txt')\n",
        "data.rename(columns={\"EXITS                                                               \": \"EXITS\"}, inplace=True)"
      ],
      "metadata": {
        "id": "otQp0yFcR6WB"
      },
      "execution_count": null,
      "outputs": []
    },
    {
      "cell_type": "code",
      "source": [
        "# Tarih ve saat sütunlarını birleştirip yeni bir gün sütunu oluşturulur:\n",
        "data[\"DATETIME\"] = pd.to_datetime(data[\"DATE\"] + \" \" + data[\"TIME\"], format=\"%m/%d/%Y %H:%M:%S\")\n",
        "data[\"DAY\"] = data[\"DATETIME\"].dt.date"
      ],
      "metadata": {
        "id": "CYIL9noeSXT1"
      },
      "execution_count": null,
      "outputs": []
    },
    {
      "cell_type": "code",
      "source": [
        "# Her istasyonun ortalama günlük giriş çıkış sayısını hesaplayalim\n",
        "data.ENTRIES = data.ENTRIES/100000\n",
        "data.EXITS = data.EXITS/100000\n",
        "station_totals = (data.groupby([\"STATION\", \"DAY\"])\n",
        "                  .agg({\"ENTRIES\": \"first\", \"EXITS\": \"first\"})\n",
        "                  .diff().fillna(0)\n",
        "                  .groupby(\"STATION\")\n",
        "                  .mean()\n",
        "                  .sort_values(by=\"ENTRIES\", ascending=False))\n",
        "\n",
        "print(station_totals.head())\n"
      ],
      "metadata": {
        "colab": {
          "base_uri": "https://localhost:8080/"
        },
        "id": "KoKI2Dt6fNuR",
        "outputId": "ace23c64-9594-48ab-e473-5d1c6999c7c5"
      },
      "execution_count": null,
      "outputs": [
        {
          "output_type": "stream",
          "name": "stdout",
          "text": [
            "                   ENTRIES        EXITS\n",
            "STATION                                \n",
            "HEWES ST       3067.445131   958.880823\n",
            "DEKALB AV      2855.024916  2643.657780\n",
            "183 ST         2524.679499  2656.177170\n",
            "72 ST-2 AVE    2331.602247  2754.155924\n",
            "PROSPECT PARK  2222.980231  1117.652609\n"
          ]
        }
      ]
    },
    {
      "cell_type": "code",
      "source": [
        "data.head()"
      ],
      "metadata": {
        "colab": {
          "base_uri": "https://localhost:8080/",
          "height": 206
        },
        "id": "RxlD6N7pgcPC",
        "outputId": "2f06c321-6bac-4716-b1d6-d421c887f57a"
      },
      "execution_count": null,
      "outputs": [
        {
          "output_type": "execute_result",
          "data": {
            "text/plain": [
              "    C/A  UNIT       SCP STATION LINENAME DIVISION        DATE      TIME  \\\n",
              "0  A002  R051  02-00-00   59 ST  NQR456W      BMT  05/21/2022  00:00:00   \n",
              "1  A002  R051  02-00-00   59 ST  NQR456W      BMT  05/21/2022  04:00:00   \n",
              "2  A002  R051  02-00-00   59 ST  NQR456W      BMT  05/21/2022  08:00:00   \n",
              "3  A002  R051  02-00-00   59 ST  NQR456W      BMT  05/21/2022  12:00:00   \n",
              "4  A002  R051  02-00-00   59 ST  NQR456W      BMT  05/21/2022  16:00:00   \n",
              "\n",
              "      DESC   ENTRIES     EXITS            DATETIME         DAY  \n",
              "0  REGULAR  77.14568  27.06545 2022-05-21 00:00:00  2022-05-21  \n",
              "1  REGULAR  77.14583  27.06554 2022-05-21 04:00:00  2022-05-21  \n",
              "2  REGULAR  77.14590  27.06575 2022-05-21 08:00:00  2022-05-21  \n",
              "3  REGULAR  77.14641  27.06648 2022-05-21 12:00:00  2022-05-21  \n",
              "4  REGULAR  77.14728  27.06690 2022-05-21 16:00:00  2022-05-21  "
            ],
            "text/html": [
              "\n",
              "  <div id=\"df-7038be21-19be-4226-aa49-24d25675c6b2\">\n",
              "    <div class=\"colab-df-container\">\n",
              "      <div>\n",
              "<style scoped>\n",
              "    .dataframe tbody tr th:only-of-type {\n",
              "        vertical-align: middle;\n",
              "    }\n",
              "\n",
              "    .dataframe tbody tr th {\n",
              "        vertical-align: top;\n",
              "    }\n",
              "\n",
              "    .dataframe thead th {\n",
              "        text-align: right;\n",
              "    }\n",
              "</style>\n",
              "<table border=\"1\" class=\"dataframe\">\n",
              "  <thead>\n",
              "    <tr style=\"text-align: right;\">\n",
              "      <th></th>\n",
              "      <th>C/A</th>\n",
              "      <th>UNIT</th>\n",
              "      <th>SCP</th>\n",
              "      <th>STATION</th>\n",
              "      <th>LINENAME</th>\n",
              "      <th>DIVISION</th>\n",
              "      <th>DATE</th>\n",
              "      <th>TIME</th>\n",
              "      <th>DESC</th>\n",
              "      <th>ENTRIES</th>\n",
              "      <th>EXITS</th>\n",
              "      <th>DATETIME</th>\n",
              "      <th>DAY</th>\n",
              "    </tr>\n",
              "  </thead>\n",
              "  <tbody>\n",
              "    <tr>\n",
              "      <th>0</th>\n",
              "      <td>A002</td>\n",
              "      <td>R051</td>\n",
              "      <td>02-00-00</td>\n",
              "      <td>59 ST</td>\n",
              "      <td>NQR456W</td>\n",
              "      <td>BMT</td>\n",
              "      <td>05/21/2022</td>\n",
              "      <td>00:00:00</td>\n",
              "      <td>REGULAR</td>\n",
              "      <td>77.14568</td>\n",
              "      <td>27.06545</td>\n",
              "      <td>2022-05-21 00:00:00</td>\n",
              "      <td>2022-05-21</td>\n",
              "    </tr>\n",
              "    <tr>\n",
              "      <th>1</th>\n",
              "      <td>A002</td>\n",
              "      <td>R051</td>\n",
              "      <td>02-00-00</td>\n",
              "      <td>59 ST</td>\n",
              "      <td>NQR456W</td>\n",
              "      <td>BMT</td>\n",
              "      <td>05/21/2022</td>\n",
              "      <td>04:00:00</td>\n",
              "      <td>REGULAR</td>\n",
              "      <td>77.14583</td>\n",
              "      <td>27.06554</td>\n",
              "      <td>2022-05-21 04:00:00</td>\n",
              "      <td>2022-05-21</td>\n",
              "    </tr>\n",
              "    <tr>\n",
              "      <th>2</th>\n",
              "      <td>A002</td>\n",
              "      <td>R051</td>\n",
              "      <td>02-00-00</td>\n",
              "      <td>59 ST</td>\n",
              "      <td>NQR456W</td>\n",
              "      <td>BMT</td>\n",
              "      <td>05/21/2022</td>\n",
              "      <td>08:00:00</td>\n",
              "      <td>REGULAR</td>\n",
              "      <td>77.14590</td>\n",
              "      <td>27.06575</td>\n",
              "      <td>2022-05-21 08:00:00</td>\n",
              "      <td>2022-05-21</td>\n",
              "    </tr>\n",
              "    <tr>\n",
              "      <th>3</th>\n",
              "      <td>A002</td>\n",
              "      <td>R051</td>\n",
              "      <td>02-00-00</td>\n",
              "      <td>59 ST</td>\n",
              "      <td>NQR456W</td>\n",
              "      <td>BMT</td>\n",
              "      <td>05/21/2022</td>\n",
              "      <td>12:00:00</td>\n",
              "      <td>REGULAR</td>\n",
              "      <td>77.14641</td>\n",
              "      <td>27.06648</td>\n",
              "      <td>2022-05-21 12:00:00</td>\n",
              "      <td>2022-05-21</td>\n",
              "    </tr>\n",
              "    <tr>\n",
              "      <th>4</th>\n",
              "      <td>A002</td>\n",
              "      <td>R051</td>\n",
              "      <td>02-00-00</td>\n",
              "      <td>59 ST</td>\n",
              "      <td>NQR456W</td>\n",
              "      <td>BMT</td>\n",
              "      <td>05/21/2022</td>\n",
              "      <td>16:00:00</td>\n",
              "      <td>REGULAR</td>\n",
              "      <td>77.14728</td>\n",
              "      <td>27.06690</td>\n",
              "      <td>2022-05-21 16:00:00</td>\n",
              "      <td>2022-05-21</td>\n",
              "    </tr>\n",
              "  </tbody>\n",
              "</table>\n",
              "</div>\n",
              "      <button class=\"colab-df-convert\" onclick=\"convertToInteractive('df-7038be21-19be-4226-aa49-24d25675c6b2')\"\n",
              "              title=\"Convert this dataframe to an interactive table.\"\n",
              "              style=\"display:none;\">\n",
              "        \n",
              "  <svg xmlns=\"http://www.w3.org/2000/svg\" height=\"24px\"viewBox=\"0 0 24 24\"\n",
              "       width=\"24px\">\n",
              "    <path d=\"M0 0h24v24H0V0z\" fill=\"none\"/>\n",
              "    <path d=\"M18.56 5.44l.94 2.06.94-2.06 2.06-.94-2.06-.94-.94-2.06-.94 2.06-2.06.94zm-11 1L8.5 8.5l.94-2.06 2.06-.94-2.06-.94L8.5 2.5l-.94 2.06-2.06.94zm10 10l.94 2.06.94-2.06 2.06-.94-2.06-.94-.94-2.06-.94 2.06-2.06.94z\"/><path d=\"M17.41 7.96l-1.37-1.37c-.4-.4-.92-.59-1.43-.59-.52 0-1.04.2-1.43.59L10.3 9.45l-7.72 7.72c-.78.78-.78 2.05 0 2.83L4 21.41c.39.39.9.59 1.41.59.51 0 1.02-.2 1.41-.59l7.78-7.78 2.81-2.81c.8-.78.8-2.07 0-2.86zM5.41 20L4 18.59l7.72-7.72 1.47 1.35L5.41 20z\"/>\n",
              "  </svg>\n",
              "      </button>\n",
              "      \n",
              "  <style>\n",
              "    .colab-df-container {\n",
              "      display:flex;\n",
              "      flex-wrap:wrap;\n",
              "      gap: 12px;\n",
              "    }\n",
              "\n",
              "    .colab-df-convert {\n",
              "      background-color: #E8F0FE;\n",
              "      border: none;\n",
              "      border-radius: 50%;\n",
              "      cursor: pointer;\n",
              "      display: none;\n",
              "      fill: #1967D2;\n",
              "      height: 32px;\n",
              "      padding: 0 0 0 0;\n",
              "      width: 32px;\n",
              "    }\n",
              "\n",
              "    .colab-df-convert:hover {\n",
              "      background-color: #E2EBFA;\n",
              "      box-shadow: 0px 1px 2px rgba(60, 64, 67, 0.3), 0px 1px 3px 1px rgba(60, 64, 67, 0.15);\n",
              "      fill: #174EA6;\n",
              "    }\n",
              "\n",
              "    [theme=dark] .colab-df-convert {\n",
              "      background-color: #3B4455;\n",
              "      fill: #D2E3FC;\n",
              "    }\n",
              "\n",
              "    [theme=dark] .colab-df-convert:hover {\n",
              "      background-color: #434B5C;\n",
              "      box-shadow: 0px 1px 3px 1px rgba(0, 0, 0, 0.15);\n",
              "      filter: drop-shadow(0px 1px 2px rgba(0, 0, 0, 0.3));\n",
              "      fill: #FFFFFF;\n",
              "    }\n",
              "  </style>\n",
              "\n",
              "      <script>\n",
              "        const buttonEl =\n",
              "          document.querySelector('#df-7038be21-19be-4226-aa49-24d25675c6b2 button.colab-df-convert');\n",
              "        buttonEl.style.display =\n",
              "          google.colab.kernel.accessAllowed ? 'block' : 'none';\n",
              "\n",
              "        async function convertToInteractive(key) {\n",
              "          const element = document.querySelector('#df-7038be21-19be-4226-aa49-24d25675c6b2');\n",
              "          const dataTable =\n",
              "            await google.colab.kernel.invokeFunction('convertToInteractive',\n",
              "                                                     [key], {});\n",
              "          if (!dataTable) return;\n",
              "\n",
              "          const docLinkHtml = 'Like what you see? Visit the ' +\n",
              "            '<a target=\"_blank\" href=https://colab.research.google.com/notebooks/data_table.ipynb>data table notebook</a>'\n",
              "            + ' to learn more about interactive tables.';\n",
              "          element.innerHTML = '';\n",
              "          dataTable['output_type'] = 'display_data';\n",
              "          await google.colab.output.renderOutput(dataTable, element);\n",
              "          const docLink = document.createElement('div');\n",
              "          docLink.innerHTML = docLinkHtml;\n",
              "          element.appendChild(docLink);\n",
              "        }\n",
              "      </script>\n",
              "    </div>\n",
              "  </div>\n",
              "  "
            ]
          },
          "metadata": {},
          "execution_count": 71
        }
      ]
    },
    {
      "cell_type": "code",
      "source": [
        "# Sokak ekiplerinin konumlandırılması için en iyi saatleri hesaplayalim\n",
        "best_hours = (data.groupby([\"STATION\", \"DAY\", data[\"DATETIME\"].dt.hour])\n",
        "              .agg({\"ENTRIES\": \"first\", \"EXITS\": \"first\"})\n",
        "              .diff().fillna(0)\n",
        "              .groupby([\"STATION\", \"DAY\"])\n",
        "              .sum()\n",
        "              .idxmax(axis=1)\n",
        "              .reset_index()\n",
        "              .rename(columns={0: \"BEST_HOUR\"}))\n",
        "\n",
        "print(best_hours.head(30))"
      ],
      "metadata": {
        "colab": {
          "base_uri": "https://localhost:8080/"
        },
        "id": "_iG8PyI6gdzP",
        "outputId": "7e2c29a8-1bce-4bd3-b3a2-ca7f26e2ea80"
      },
      "execution_count": null,
      "outputs": [
        {
          "output_type": "stream",
          "name": "stdout",
          "text": [
            "          STATION         DAY BEST_HOUR\n",
            "0            1 AV  2022-05-21     EXITS\n",
            "1            1 AV  2022-05-22     EXITS\n",
            "2            1 AV  2022-05-23     EXITS\n",
            "3            1 AV  2022-05-24     EXITS\n",
            "4            1 AV  2022-05-25     EXITS\n",
            "5            1 AV  2022-05-26     EXITS\n",
            "6            1 AV  2022-05-27     EXITS\n",
            "7          103 ST  2022-05-21   ENTRIES\n",
            "8          103 ST  2022-05-22     EXITS\n",
            "9          103 ST  2022-05-23     EXITS\n",
            "10         103 ST  2022-05-24     EXITS\n",
            "11         103 ST  2022-05-25     EXITS\n",
            "12         103 ST  2022-05-26   ENTRIES\n",
            "13         103 ST  2022-05-27   ENTRIES\n",
            "14  103 ST-CORONA  2022-05-21     EXITS\n",
            "15  103 ST-CORONA  2022-05-22     EXITS\n",
            "16  103 ST-CORONA  2022-05-23     EXITS\n",
            "17  103 ST-CORONA  2022-05-24     EXITS\n",
            "18  103 ST-CORONA  2022-05-25     EXITS\n",
            "19  103 ST-CORONA  2022-05-26     EXITS\n",
            "20  103 ST-CORONA  2022-05-27     EXITS\n",
            "21         104 ST  2022-05-21   ENTRIES\n",
            "22         104 ST  2022-05-22     EXITS\n",
            "23         104 ST  2022-05-23   ENTRIES\n",
            "24         104 ST  2022-05-24   ENTRIES\n",
            "25         104 ST  2022-05-25   ENTRIES\n",
            "26         104 ST  2022-05-26   ENTRIES\n",
            "27         104 ST  2022-05-27   ENTRIES\n",
            "28         110 ST  2022-05-21     EXITS\n",
            "29         110 ST  2022-05-22     EXITS\n"
          ]
        }
      ]
    },
    {
      "cell_type": "markdown",
      "source": [
        "Bu kod, her bir turnike cihazının her tarih ve saat için giriş ve çıkış sayılarını hesaplar ve sonra her istasyon için ortalama günlük giriş ve çıkış sayısını hesaplar. Ardından, istasyonları en yüksek ortalama günlük giriş sayısına göre sıralar ve ilk beş istasyonu ekrana yazdırır.\n",
        "\n",
        "Daha sonra, sokak ekiplerinin konumlandırılması için en iyi saatleri hesaplamak için, her istasyonun her gün için saatlere göre giriş ve çıkış sayılarını toplar ve ardından her gün için en yüksek toplam giriş sayısına sahip saatleri seçer. Bu saatleri BEST_HOUR sütununda saklar ve ilk beş sonucu ekrana yazdırır.\n"
      ],
      "metadata": {
        "id": "sL3LkjQglG2Z"
      }
    },
    {
      "cell_type": "code",
      "source": [
        "# Her istasyonun günlük toplam yolcu sayısını hesaplayalım\n",
        "station_totals = data.groupby([\"STATION\", \"DATE\"]).agg({\"ENTRIES\": \"first\", \"EXITS\": \"first\"}).diff().fillna(0).reset_index()\n",
        "station_totals[\"TOTAL\"] = station_totals[\"ENTRIES\"] + station_totals[\"EXITS\"]\n"
      ],
      "metadata": {
        "id": "_fJPji-KsMQQ"
      },
      "execution_count": null,
      "outputs": []
    },
    {
      "cell_type": "markdown",
      "source": [
        "Daha sonra top_stations dataframe'inde \"TOTAL\" sütunu kullanılarak grafik oluşturulabilir. Tam kod aşağıdaki gibi olacaktır:"
      ],
      "metadata": {
        "id": "hI7Z5uQEvGGf"
      }
    },
    {
      "cell_type": "code",
      "source": [
        "# Her istasyonun günlük toplam yolcu sayısını hesaplayalım\n",
        "station_totals = data.groupby([\"STATION\", \"DATE\"]).agg({\"ENTRIES\": \"first\", \"EXITS\": \"first\"}).diff().fillna(0).reset_index()\n",
        "station_totals[\"TOTAL\"] = station_totals[\"ENTRIES\"] + station_totals[\"EXITS\"]\n",
        "\n",
        "# En yoğun 10 istasyonun günlük ortalama giriş-çıkış sayılarını alalım\n",
        "top_stations = station_totals.groupby('STATION').mean().sort_values(by='TOTAL', ascending=False).head(10)\n",
        "\n",
        "# Grafik boyutlarını ayarlayalım\n",
        "plt.figure(figsize=(10,6))\n",
        "\n",
        "# Grafik çizdirelim\n",
        "plt.bar(top_stations.index, top_stations[\"TOTAL\"], color='purple')\n",
        "\n",
        "# Eksen isimlerini ve başlığı ayarlayalım\n",
        "plt.xlabel(\"İstasyonlar\")\n",
        "plt.ylabel(\"Ortalama Günlük Yolcu Sayısı\")\n",
        "plt.title(\"En Yoğun 10 İstasyonun Günlük Ortalama Yolcu Sayısı\")\n",
        "plt.xticks(rotation=45, ha='right')\n",
        "\n",
        "# Grafiği gösterelim\n",
        "plt.show()"
      ],
      "metadata": {
        "colab": {
          "base_uri": "https://localhost:8080/",
          "height": 473
        },
        "id": "VQWA9dH7t8bs",
        "outputId": "eee89df6-03c9-4625-9406-50727492fe89"
      },
      "execution_count": null,
      "outputs": [
        {
          "output_type": "display_data",
          "data": {
            "text/plain": [
              "<Figure size 720x432 with 1 Axes>"
            ],
            "image/png": "[encoded data removed]"
          },
          "metadata": {
            "needs_background": "light"
          }
        }
      ]
    },
    {
      "cell_type": "code",
      "source": [
        "# İstasyon turnikeleri arasındaki giriş-çıkış farkını hesapla\n",
        "data[\"ENTRIES_DIFF\"] = data.groupby([\"C/A\", \"UNIT\", \"SCP\", \"STATION\"])[\"ENTRIES\"].diff()\n",
        "data[\"EXITS_DIFF\"] = data.groupby([\"C/A\", \"UNIT\", \"SCP\", \"STATION\"])[\"EXITS\"].diff()\n",
        "\n",
        "# NaN değerleri 0 ile değiştir\n",
        "data.fillna(0, inplace=True)\n",
        "\n",
        "# Toplam giriş-çıkış farkını hesapla\n",
        "data[\"TRAFFIC\"] = data[\"ENTRIES_DIFF\"] + data[\"EXITS_DIFF\"]\n",
        "\n",
        "# Saatleri ayır\n",
        "data[\"HOUR\"] = data[\"DATE_TIME\"].dt.hour\n",
        "\n",
        "# Her saatteki toplam giriş-çıkış farkını hesapla\n",
        "hourly_traffic = data.groupby(\"HOUR\")[\"TRAFFIC\"].sum()\n",
        "\n",
        "# Grafik oluştur\n",
        "plt.figure(figsize=(10,6))\n",
        "plt.plot(hourly_traffic)\n",
        "plt.xlabel(\"Saat\")\n",
        "plt.ylabel(\"Toplam Giriş-Çıkış Farkı\")\n",
        "plt.title(\"Metro Turnike Trafiği\")\n",
        "plt.xticks(range(0, 24))\n",
        "plt.show()"
      ],
      "metadata": {
        "colab": {
          "base_uri": "https://localhost:8080/",
          "height": 404
        },
        "id": "NfOyECjAv4Uc",
        "outputId": "e53ffddf-a542-4999-dade-7e3122656f99"
      },
      "execution_count": null,
      "outputs": [
        {
          "output_type": "display_data",
          "data": {
            "text/plain": [
              "<Figure size 720x432 with 1 Axes>"
            ],
            "image/png": "[encoded data removed]"
          },
          "metadata": {
            "needs_background": "light"
          }
        }
      ]
    },
    {
      "cell_type": "code",
      "source": [
        "# Group by station and compute mean entries and exits\n",
        "station_stats = data.groupby([\"STATION\", \"LINENAME\"])[[\"ENTRIES\", \"EXITS\"]].mean().reset_index()\n",
        "\n",
        "# Calculate total traffic by adding entries and exits\n",
        "station_stats[\"TRAFFIC\"] = station_stats[\"ENTRIES\"] + station_stats[\"EXITS\"]\n",
        "\n",
        "# Sort by traffic to find busiest stations\n",
        "busiest_stations = station_stats.sort_values(\"TRAFFIC\", ascending=False)\n",
        "\n",
        "plt.figure(figsize=(10, 6))\n",
        "plt.bar(busiest_stations[\"STATION\"][:20], busiest_stations[\"TRAFFIC\"][:20])\n",
        "plt.xticks(rotation=90)\n",
        "plt.title(\"En Yoğun 20 İstasyon\")\n",
        "plt.xlabel(\"İstasyon\")\n",
        "plt.ylabel(\"Toplam Trafik\")\n",
        "plt.show()"
      ],
      "metadata": {
        "colab": {
          "base_uri": "https://localhost:8080/",
          "height": 491
        },
        "id": "nac2RzIJ0kXO",
        "outputId": "040024b5-3123-4106-fb5f-6985938c52c8"
      },
      "execution_count": null,
      "outputs": [
        {
          "output_type": "display_data",
          "data": {
            "text/plain": [
              "<Figure size 720x432 with 1 Axes>"
            ],
            "image/png": "[encoded data removed]"
          },
          "metadata": {
            "needs_background": "light"
          }
        }
      ]
    },
    {
      "cell_type": "code",
      "source": [],
      "metadata": {
        "id": "eNLSImRk1uyi"
      },
      "execution_count": null,
      "outputs": []
    }
  ]
}